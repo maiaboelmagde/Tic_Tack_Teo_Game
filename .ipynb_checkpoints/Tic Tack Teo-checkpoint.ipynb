{
 "cells": [
  {
   "cell_type": "code",
   "execution_count": null,
   "id": "368aeec9",
   "metadata": {},
   "outputs": [
    {
     "name": "stdout",
     "output_type": "stream",
     "text": [
      " ------- ------- ------ \n",
      "|  0,0  |  0,1  |  0,2  |\n",
      " ------- ------- ------- \n",
      "|  1,0  |  1,1  |  1,2  |\n",
      " ------- ------- ------- \n",
      "|  2,0  |  2,1  |  2,2  |\n",
      " ------- ------- ------- \n"
     ]
    }
   ],
   "source": [
    "pos=[\n",
    "    [\"0,0\",\"0,1\",\"0,2\"],\n",
    "    [\"1,0\",\"1,1\",\"1,2\"],\n",
    "    [\"2,0\",\"2,1\",\"2,2\"]\n",
    "]\n",
    "print(\" ------- ------- ------ \")\n",
    "print(\"|  \"+pos[0][0] +\"  |  \"+pos[0][1]+\"  |  \"+pos[0][2]+\"  |\")\n",
    "print(\" ------- ------- ------- \")\n",
    "print(\"|  \"+pos[1][0]+\"  |  \"+pos[1][1]+\"  |  \"+pos[1][2]+\"  |\")\n",
    "print(\" ------- ------- ------- \")\n",
    "print(\"|  \"+pos[2][0]+\"  |  \"+pos[2][1]+\"  |  \"+pos[2][2]+\"  |\")\n",
    "print(\" ------- ------- ------- \")\n",
    "turns_num=0\n",
    "while turns_num<9:\n",
    "    if turns_num%2==0 :\n",
    "        pos1=int(input(\"Player x , Enter the position numbers\"))\n",
    "        pos2=int(input())\n",
    "        if pos[pos1][pos2]==\" x \" or pos[pos1][pos2]==\" y \" :\n",
    "            print(\"Please, Choose another cell\")\n",
    "            continue\n",
    "        pos[pos1][pos2]=\" x \"\n",
    "    else:\n",
    "        pos1=int(input(\"Player y , Enter the position numbers\"))\n",
    "        pos2=int(input())\n",
    "        if pos[pos1][pos2]==\" x \" or pos[pos1][pos2]==\" y \" :\n",
    "            print(\"please, Choose another cell\")\n",
    "            continue\n",
    "        pos[pos1][pos2]=\" y \"\n",
    "        \n",
    "    print(\" ------- ------- ------- \")\n",
    "    print(\"|  \"+pos[0][0] +\"  |  \"+pos[0][1]+\"  |  \"+pos[0][2]+\"  |\")\n",
    "    print(\" ------- ------- ------- \")\n",
    "    print(\"|  \"+pos[1][0]+\"  |  \"+pos[1][1]+\"  |  \"+pos[1][2]+\"  |\")\n",
    "    print(\" ------- ------- ------- \")\n",
    "    print(\"|  \"+pos[2][0]+\"  |  \"+pos[2][1]+\"  |  \"+pos[2][2]+\"  |\")\n",
    "    print(\" ------- ------- ------- \")\n",
    "    \n",
    "    if pos[0][0]==pos[0][1] and pos[0][2]==pos[0][1] :\n",
    "        print(\"***** Player \"+pos[0][0]+\" wins *****\")\n",
    "        break\n",
    "    elif pos[1][0]==pos[1][1] and pos[1][2]==pos[1][1] :\n",
    "        print(\"***** Player \"+pos[1][0]+\" wins *****\")\n",
    "        break\n",
    "    elif pos[2][0]==pos[2][1] and pos[2][2]==pos[2][1] :\n",
    "        print(\"***** Player \"+pos[2][0]+\" wins *****\")\n",
    "        break\n",
    "    elif pos[0][0]==pos[1][0] and pos[2][0]==pos[1][0] :\n",
    "        print(\"***** Player \"+pos[0][0]+\" wins *****\")\n",
    "        break\n",
    "    elif pos[0][1]==pos[1][1] and pos[2][2]==pos[1][1] :\n",
    "        print(\"***** Player \"+pos[0][1]+\" wins *****\")\n",
    "        break\n",
    "    elif pos[0][2]==pos[1][2] and pos[2][2]==pos[1][2] :\n",
    "        print(\"***** Player \"+pos[0][2]+\" wins *****\")\n",
    "        break\n",
    "    elif pos[0][0]==pos[1][1] and pos[2][2]==pos[1][1] :\n",
    "        print(\"***** Player \"+pos[0][0]+\" wins *****\")\n",
    "        break\n",
    "    elif pos[0][2]==pos[1][1] and pos[2][0]==pos[1][1] :\n",
    "        print(\"***** Player \"+pos[0][2]+\" wins *****\")\n",
    "        break\n",
    "    \n",
    "    turns_num=turns_num+1\n",
    "    \n",
    "    \n",
    "if(turns_num==9) :\n",
    "    print(\"    *******Draw*********** \")\n",
    "    \n",
    "print(\"THE END\")"
   ]
  },
  {
   "cell_type": "code",
   "execution_count": null,
   "id": "1c1a4f34",
   "metadata": {},
   "outputs": [],
   "source": []
  }
 ],
 "metadata": {
  "kernelspec": {
   "display_name": "Python 3 (ipykernel)",
   "language": "python",
   "name": "python3"
  },
  "language_info": {
   "codemirror_mode": {
    "name": "ipython",
    "version": 3
   },
   "file_extension": ".py",
   "mimetype": "text/x-python",
   "name": "python",
   "nbconvert_exporter": "python",
   "pygments_lexer": "ipython3",
   "version": "3.11.3"
  }
 },
 "nbformat": 4,
 "nbformat_minor": 5
}
